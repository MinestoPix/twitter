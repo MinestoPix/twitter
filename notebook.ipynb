{
 "cells": [
  {
   "cell_type": "code",
   "execution_count": 1,
   "metadata": {},
   "outputs": [],
   "source": [
    "from __future__ import print_function\n",
    "import random\n",
    "\n",
    "from IPython.display import display, HTML\n",
    "from ipywidgets import interact, fixed\n",
    "import ipywidgets as widgets\n",
    "\n",
    "import graphviz\n",
    "\n",
    "import graph_cluster\n",
    "\n",
    "\n",
    "test_edges = [(1, 2), (2, 3), (3, 1), (2, 4), (4, 5), (5, 6), (6, 4),\n",
    "              (7, 8), (8, 9), (9, 10), (10, 7), (9, 7), (7, 6), (8, 3)]\n",
    "    \n",
    "\n",
    "def gen_colors(number_of_colors):\n",
    "    colors = [\"#\"+''.join([random.choice('0123456789ABCDEF') for j in range(6)])\n",
    "                 for i in range(number_of_colors)]\n",
    "    return colors\n"
   ]
  },
  {
   "cell_type": "code",
   "execution_count": 2,
   "metadata": {
    "collapsed": true
   },
   "outputs": [
    {
     "data": {
      "application/vnd.jupyter.widget-view+json": {
       "model_id": "cd7be0f86dc34d48b231649c6df9eb37",
       "version_major": 2,
       "version_minor": 0
      },
      "text/plain": [
       "interactive(children=(IntSlider(value=14, description='num', max=14), IntSlider(value=6, description='v_max', …"
      ]
     },
     "metadata": {},
     "output_type": "display_data"
    }
   ],
   "source": [
    "@interact(num=widgets.IntSlider(min=0, max=len(test_edges), step=1, value=len(test_edges)),\n",
    "         v_max=widgets.IntSlider(min=1, max=50, step=1, value=6))\n",
    "def display_edges(num, v_max):\n",
    "    graph = graphviz.Graph(engine='sfdp', node_attr={'style': 'filled'})\n",
    "    #graph.node('1', color='#aaffaa', style='filled')\n",
    "    for edge in test_edges[:num]:\n",
    "        graph.edge(str(edge[0]), str(edge[1]))\n",
    "\n",
    "    clusters = graph_cluster.new_graph(v_max, test_edges[:num])\n",
    "    unique_clusters = set(cluster for cluster in clusters.values())\n",
    "    #colors = gen_colors(len(unique_clusters))\n",
    "    colors = [\"#ff5555\", \"#55ff55\", \"#5555ff\", \"#cccc88\", \"#cc88cc\", \"#88cccc\", \"#bbbbbb\", \"#888888\"]\n",
    "    \n",
    "    cluster_colors = {}\n",
    "    \n",
    "    for i, cluster in enumerate(unique_clusters):\n",
    "        cluster_colors[cluster] = colors[i]\n",
    "    \n",
    "    colored_clusters = {k: cluster_colors[v] for k, v in clusters.items()}\n",
    "\n",
    "    \n",
    "    for x, y in colored_clusters.items():\n",
    "        graph.node(str(x), color=y)\n",
    "    \n",
    "    #display(HTML(\"<style>.container { width:90% !important; }</style>\"), graph)\n",
    "    display(graph)"
   ]
  },
  {
   "cell_type": "code",
   "execution_count": 19,
   "metadata": {
    "scrolled": false
   },
   "outputs": [
    {
     "name": "stdout",
     "output_type": "stream",
     "text": [
      "The autoreload extension is already loaded. To reload it, use:\n",
      "  %reload_ext autoreload\n"
     ]
    },
    {
     "data": {
      "application/vnd.jupyter.widget-view+json": {
       "model_id": "9e65466fee4a4b5b8a2ed91b68c64ad8",
       "version_major": 2,
       "version_minor": 0
      },
      "text/plain": [
       "interactive(children=(IntSlider(value=128, description='num', max=128), IntSlider(value=6, description='v_max'…"
      ]
     },
     "metadata": {},
     "output_type": "display_data"
    }
   ],
   "source": [
    "%load_ext autoreload\n",
    "%autoreload 2\n",
    "\n",
    "import database as db\n",
    "\n",
    "conn = db.Connection()\n",
    "#mention_edges = conn.get_relations_from_list([\"PLOSBiology\",\"PLOS\",\"PLOSONE\",\"PLOSMEDICINE\"])\n",
    "mention_edges = conn.get_relations_from_list([\"PLOSBiology\", \"npariente\", \"nature\", \"NatureMicrobiol\",\n",
    "                                              \"CancerConnector\", \"andrewdhawan\"])\n",
    "\n",
    "\n",
    "@interact(num=widgets.IntSlider(min=0, max=len(mention_edges), step=1, value=len(mention_edges)),\n",
    "         v_max=widgets.IntSlider(min=1, max=500, step=1, value=6))\n",
    "def display_edges(num, v_max):\n",
    "    graph = graphviz.Graph(engine='sfdp', node_attr={'style': 'filled'}, graph_attr={'overlap':'scale'})\n",
    "    #graph.node('1', color='#aaffaa', style='filled')\n",
    "    for edge in mention_edges[:num]:\n",
    "        graph.edge(str(edge[0]), str(edge[1]))\n",
    "\n",
    "    clusters = graph_cluster.new_graph(v_max, mention_edges[:num])\n",
    "    unique_clusters = set(cluster for cluster in clusters.values())\n",
    "    colors = gen_colors(len(unique_clusters))\n",
    "    #colors = [\"#ff5555\", \"#55ff55\", \"#5555ff\", \"#cccc88\", \"#cc88cc\", \"#88cccc\", \"#bbbbbb\", \"#888888\"]\n",
    "    \n",
    "    cluster_colors = {}\n",
    "    \n",
    "    for i, cluster in enumerate(unique_clusters):\n",
    "        cluster_colors[cluster] = colors[i]\n",
    "    \n",
    "    colored_clusters = {k: cluster_colors[v] for k, v in clusters.items()}\n",
    "\n",
    "    \n",
    "    for x, y in colored_clusters.items():\n",
    "        graph.node(str(x), color=y)\n",
    "    \n",
    "    #graph.render(\"test.gv\")\n",
    "    display(graph)"
   ]
  },
  {
   "cell_type": "code",
   "execution_count": null,
   "metadata": {},
   "outputs": [],
   "source": []
  }
 ],
 "metadata": {
  "kernelspec": {
   "display_name": "Python 3",
   "language": "python",
   "name": "python3"
  },
  "language_info": {
   "codemirror_mode": {
    "name": "ipython",
    "version": 3
   },
   "file_extension": ".py",
   "mimetype": "text/x-python",
   "name": "python",
   "nbconvert_exporter": "python",
   "pygments_lexer": "ipython3",
   "version": "3.8.3"
  }
 },
 "nbformat": 4,
 "nbformat_minor": 4
}
